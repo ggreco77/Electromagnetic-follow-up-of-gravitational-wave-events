{
 "cells": [
  {
   "cell_type": "markdown",
   "metadata": {},
   "source": [
    "# GWsky: localization and FoV sequence"
   ]
  },
  {
   "cell_type": "markdown",
   "metadata": {},
   "source": [
    "<span style=\"color:#B22222\"> <strong>  1. Localized the  ONLINE TRACK-LIKE NEUTRINO CANDIDATE reported in the  [GCN CIRCULAR 21508](https://gcn.gsfc.nasa.gov/other/G298048.gcn3) with the bayestar skymaps with Virgo and without Virgo. Finally localize them within the more accurated localization issued so far. </strong> </span>"
   ]
  },
  {
   "cell_type": "code",
   "execution_count": 10,
   "metadata": {
    "scrolled": true
   },
   "outputs": [
    {
     "data": {
      "text/html": [
       "<img src=\"https://github.com/ggreco77/Electromagnetic-follow-up-of-gravitational-wave-events/blob/master/ask.gif?raw=true\"/>"
      ],
      "text/plain": [
       "<IPython.core.display.Image object>"
      ]
     },
     "metadata": {},
     "output_type": "display_data"
    }
   ],
   "source": [
    "from IPython.display import Image\n",
    "from IPython.display import display\n",
    "display(Image(url='https://github.com/ggreco77/Electromagnetic-follow-up-of-gravitational-wave-events/blob/master/ask.gif?raw=true'))\n"
   ]
  },
  {
   "cell_type": "markdown",
   "metadata": {},
   "source": [
    "<span style=\"color:#B22222\"> <strong> 2. Localized *the LIGO/Virgo G298048: Potential optical counterpart discovered by Swope telescope* and reported in the  [GCN CIRCULAR 21529](https://gcn.gsfc.nasa.gov/other/G298048.gcn3) with the bayestar skymaps with Virgo and without Virgo. Finally localize it within the more accurated localization issued so far. </strong> </span>"
   ]
  },
  {
   "cell_type": "code",
   "execution_count": 11,
   "metadata": {},
   "outputs": [
    {
     "data": {
      "text/html": [
       "<img src=\"https://github.com/ggreco77/Electromagnetic-follow-up-of-gravitational-wave-events/blob/master/pinpoint.gif?raw=true\"/>"
      ],
      "text/plain": [
       "<IPython.core.display.Image object>"
      ]
     },
     "metadata": {},
     "output_type": "display_data"
    }
   ],
   "source": [
    "display(Image(url='https://github.com/ggreco77/Electromagnetic-follow-up-of-gravitational-wave-events/blob/master/pinpoint.gif?raw=true'))\n"
   ]
  },
  {
   "cell_type": "markdown",
   "metadata": {},
   "source": [
    "# Managing a FoV sequence in GWsky: GW170814\n",
    "\n",
    "Getting the integrated probability of a FoV sequence when the skymap is updated. GWsky generates a file named *GWsky_pointing.txt*: **RA[deg]**, **DEC[deg]**, **probability**, **skymap name**"
   ]
  },
  {
   "cell_type": "code",
   "execution_count": 12,
   "metadata": {},
   "outputs": [
    {
     "data": {
      "text/html": [
       "<img src=\"https://github.com/ggreco77/Electromagnetic-follow-up-of-gravitational-wave-events/blob/master/first_tiling.gif?raw=true\"/>"
      ],
      "text/plain": [
       "<IPython.core.display.Image object>"
      ]
     },
     "metadata": {},
     "output_type": "display_data"
    },
    {
     "data": {
      "text/html": [
       "<img src=\"https://github.com/ggreco77/Electromagnetic-follow-up-of-gravitational-wave-events/blob/master/second_tiling.gif?raw=true\"/>"
      ],
      "text/plain": [
       "<IPython.core.display.Image object>"
      ]
     },
     "metadata": {},
     "output_type": "display_data"
    },
    {
     "data": {
      "text/html": [
       "<img src=\"https://github.com/ggreco77/Electromagnetic-follow-up-of-gravitational-wave-events/blob/master/compare.gif?raw=true\"/>"
      ],
      "text/plain": [
       "<IPython.core.display.Image object>"
      ]
     },
     "metadata": {},
     "output_type": "display_data"
    }
   ],
   "source": [
    "display(Image(url='https://github.com/ggreco77/Electromagnetic-follow-up-of-gravitational-wave-events/blob/master/first_tiling.gif?raw=true'))\n",
    "display(Image(url='https://github.com/ggreco77/Electromagnetic-follow-up-of-gravitational-wave-events/blob/master/second_tiling.gif?raw=true'))\n",
    "display(Image(url='https://github.com/ggreco77/Electromagnetic-follow-up-of-gravitational-wave-events/blob/master/compare.gif?raw=true'))\n"
   ]
  },
  {
   "cell_type": "markdown",
   "metadata": {},
   "source": [
    "Shift the sequence according with the shift the the update localization and press the botton **accept** to get the integrated probability in the **GWsky_pointing.txt**"
   ]
  },
  {
   "cell_type": "code",
   "execution_count": 13,
   "metadata": {},
   "outputs": [
    {
     "data": {
      "text/html": [
       "<img src=\"https://github.com/ggreco77/Electromagnetic-follow-up-of-gravitational-wave-events/blob/master/shift.gif?raw=true\"/>"
      ],
      "text/plain": [
       "<IPython.core.display.Image object>"
      ]
     },
     "metadata": {},
     "output_type": "display_data"
    }
   ],
   "source": [
    "display(Image(url='https://github.com/ggreco77/Electromagnetic-follow-up-of-gravitational-wave-events/blob/master/shift.gif?raw=true'))"
   ]
  },
  {
   "cell_type": "code",
   "execution_count": 1,
   "metadata": {},
   "outputs": [
    {
     "data": {
      "text/html": [
       "<script>\n",
       "code_show=true; \n",
       "function code_toggle() {\n",
       " if (code_show){\n",
       " $('div.input').hide();\n",
       " } else {\n",
       " $('div.input').show();\n",
       " }\n",
       " code_show = !code_show\n",
       "} \n",
       "$( document ).ready(code_toggle);\n",
       "</script>\n",
       "<form action=\"javascript:code_toggle()\"><input type=\"submit\" value=\"Click here to toggle on/off the raw code.\"></form>"
      ],
      "text/plain": [
       "<IPython.core.display.HTML object>"
      ]
     },
     "execution_count": 1,
     "metadata": {},
     "output_type": "execute_result"
    }
   ],
   "source": [
    "from IPython.display import HTML\n",
    "\n",
    "HTML('''<script>\n",
    "code_show=true; \n",
    "function code_toggle() {\n",
    " if (code_show){\n",
    " $('div.input').hide();\n",
    " } else {\n",
    " $('div.input').show();\n",
    " }\n",
    " code_show = !code_show\n",
    "} \n",
    "$( document ).ready(code_toggle);\n",
    "</script>\n",
    "<form action=\"javascript:code_toggle()\"><input type=\"submit\" value=\"Click here to toggle on/off the raw code.\"></form>''')\n",
    "\n"
   ]
  },
  {
   "cell_type": "code",
   "execution_count": null,
   "metadata": {},
   "outputs": [],
   "source": []
  }
 ],
 "metadata": {
  "kernelspec": {
   "display_name": "Python 3",
   "language": "python",
   "name": "python3"
  },
  "language_info": {
   "codemirror_mode": {
    "name": "ipython",
    "version": 3
   },
   "file_extension": ".py",
   "mimetype": "text/x-python",
   "name": "python",
   "nbconvert_exporter": "python",
   "pygments_lexer": "ipython3",
   "version": "3.6.6"
  }
 },
 "nbformat": 4,
 "nbformat_minor": 2
}
